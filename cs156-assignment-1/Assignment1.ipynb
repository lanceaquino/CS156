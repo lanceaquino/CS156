{
 "cells": [
  {
   "cell_type": "markdown",
   "metadata": {},
   "source": [
    "## Assignment 1: Moore's Law and MNIST Digits \n"
   ]
  },
  {
   "cell_type": "markdown",
   "metadata": {},
   "source": [
    "### 1. Moore's Law\n",
    "\n",
    "Use the scripts from [here](https://github.com/preshing/analyze-spec-benchmarks) to download a large amount of data relating to CPU specs. The scripts might take as long as an hour, depending on your connection speed. (Pay attention to the line \"If you want to skip the steps in this section, you can simply download the aggregated result files from http://preshing.com/files/specdata20120207.zip and extract them to this folder.\" This will be faster and save you some troubles while providing the same dataset.)\n",
    "\n",
    "This will save the data in the following format:\n",
    "\n",
    "| `testid`               | `benchName`   | `base` | `peak` |\n",
    "| ---------------------- | ------------- | ------ | ------ |\n",
    "| `cpu95-19990104-03254` | `101.tomcatv` | `19.4` | `27.1` |\n",
    "| `cpu95-19990104-03254` | `102.swim`    | `27.2` | `34.8` |\n",
    "| `cpu95-19990104-03254` | `103.su2cor`  | `10.1` | `9.98` |\n",
    "| `cpu95-19990104-03254` | `104.hydro2d` | `8.58` | `8.61` |\n",
    "\n",
    "Now do the following:\n",
    "\n",
    "1. Extract the date and base speed for a benchmark of your choice. Note that the dates contained as part of the testID don't tell us about when the hardware was actually designed, so the test could have been run at a much later date using older hardware. We therefore need the date indicating when the hardware was first available (hwAvail) from the summaries file to really test Moore's Law.\n",
    "2. Plot the data in a semi-log plot\n",
    "3. Now train a linear model to fit your plot.\n",
    "4. How well is Moore’s law holding up?"
   ]
  },
  {
   "cell_type": "code",
   "execution_count": 1,
   "metadata": {},
   "outputs": [],
   "source": [
    "import pandas as pd \n",
    "import numpy as np \n",
    "import matplotlib.pyplot as plt \n",
    "from sklearn import linear_model\n",
    "import sklearn.metrics as metrics \n",
    "import datetime as dt\n"
   ]
  },
  {
   "cell_type": "code",
   "execution_count": 2,
   "metadata": {},
   "outputs": [
    {
     "data": {
      "text/html": [
       "<div>\n",
       "<style scoped>\n",
       "    .dataframe tbody tr th:only-of-type {\n",
       "        vertical-align: middle;\n",
       "    }\n",
       "\n",
       "    .dataframe tbody tr th {\n",
       "        vertical-align: top;\n",
       "    }\n",
       "\n",
       "    .dataframe thead th {\n",
       "        text-align: right;\n",
       "    }\n",
       "</style>\n",
       "<table border=\"1\" class=\"dataframe\">\n",
       "  <thead>\n",
       "    <tr style=\"text-align: right;\">\n",
       "      <th></th>\n",
       "      <th>testID</th>\n",
       "      <th>benchName</th>\n",
       "      <th>base</th>\n",
       "      <th>peak</th>\n",
       "      <th>test-date</th>\n",
       "    </tr>\n",
       "  </thead>\n",
       "  <tbody>\n",
       "    <tr>\n",
       "      <th>0</th>\n",
       "      <td>cpu95-19990104-03254</td>\n",
       "      <td>101.tomcatv</td>\n",
       "      <td>19.4</td>\n",
       "      <td>27.1</td>\n",
       "      <td>1999-01-04</td>\n",
       "    </tr>\n",
       "    <tr>\n",
       "      <th>1</th>\n",
       "      <td>cpu95-19990104-03254</td>\n",
       "      <td>102.swim</td>\n",
       "      <td>27.2</td>\n",
       "      <td>34.8</td>\n",
       "      <td>1999-01-04</td>\n",
       "    </tr>\n",
       "    <tr>\n",
       "      <th>2</th>\n",
       "      <td>cpu95-19990104-03254</td>\n",
       "      <td>103.su2cor</td>\n",
       "      <td>10.1</td>\n",
       "      <td>9.98</td>\n",
       "      <td>1999-01-04</td>\n",
       "    </tr>\n",
       "  </tbody>\n",
       "</table>\n",
       "</div>"
      ],
      "text/plain": [
       "                 testID    benchName  base  peak  test-date\n",
       "0  cpu95-19990104-03254  101.tomcatv  19.4  27.1 1999-01-04\n",
       "1  cpu95-19990104-03254     102.swim  27.2  34.8 1999-01-04\n",
       "2  cpu95-19990104-03254   103.su2cor  10.1  9.98 1999-01-04"
      ]
     },
     "execution_count": 2,
     "metadata": {},
     "output_type": "execute_result"
    }
   ],
   "source": [
    "# Load Data and pre-processing\n",
    "\n",
    "foo = pd.read_csv(\"benchmarks.txt\", dtype = str)\n",
    "foo['base'] = pd.to_numeric(foo['base'])\n",
    "\n",
    "# Using summary.txt data to get date of manufacture \n",
    "summary = pd.read_csv('summaries.txt', encoding = 'unicode-escape')\n",
    "\n",
    "new = foo['testID'].str.split(\"-\", n =2, expand = True)\n",
    "\n",
    "# conversions to date time \n",
    "foo['test-date'] = new[1]\n",
    "foo['test-date'] = pd.to_datetime(foo['test-date'])\n",
    "\n",
    "summary['hwAvail'] = pd.to_datetime(summary['hwAvail'])\n",
    "\n",
    "foo.head(n=3)\n"
   ]
  },
  {
   "cell_type": "code",
   "execution_count": 3,
   "metadata": {},
   "outputs": [],
   "source": [
    "# Choose bench name \n",
    "zeus = foo[foo['benchName'] == '434.zeusmp']\n",
    "zeus.name = \"Zeus Data Set\"\n",
    "\n",
    "# We use the date in summary.txt specifically in hwAvail \n",
    "# since it has the date of manufacturing not the testing date \n",
    "# The reason for this addition is to have a more accurate Moore's Law test \n",
    "zeus_testID = np.array(zeus['testID'])\n",
    "manf_date = []\n",
    "\n",
    "for testID in zeus_testID:\n",
    "    ID = summary[summary['testID'] == testID]\n",
    "    date = ID['hwAvail'].iloc[0]\n",
    "    \n",
    "    manf_date.append(date)\n",
    "    \n"
   ]
  },
  {
   "cell_type": "code",
   "execution_count": 4,
   "metadata": {},
   "outputs": [
    {
     "name": "stderr",
     "output_type": "stream",
     "text": [
      "<ipython-input-4-6e4df2e95749>:1: SettingWithCopyWarning: \n",
      "A value is trying to be set on a copy of a slice from a DataFrame.\n",
      "Try using .loc[row_indexer,col_indexer] = value instead\n",
      "\n",
      "See the caveats in the documentation: https://pandas.pydata.org/pandas-docs/stable/user_guide/indexing.html#returning-a-view-versus-a-copy\n",
      "  zeus['manf-date'] = manf_date\n"
     ]
    },
    {
     "data": {
      "text/html": [
       "<div>\n",
       "<style scoped>\n",
       "    .dataframe tbody tr th:only-of-type {\n",
       "        vertical-align: middle;\n",
       "    }\n",
       "\n",
       "    .dataframe tbody tr th {\n",
       "        vertical-align: top;\n",
       "    }\n",
       "\n",
       "    .dataframe thead th {\n",
       "        text-align: right;\n",
       "    }\n",
       "</style>\n",
       "<table border=\"1\" class=\"dataframe\">\n",
       "  <thead>\n",
       "    <tr style=\"text-align: right;\">\n",
       "      <th></th>\n",
       "      <th>testID</th>\n",
       "      <th>benchName</th>\n",
       "      <th>base</th>\n",
       "      <th>peak</th>\n",
       "      <th>test-date</th>\n",
       "      <th>manf-date</th>\n",
       "    </tr>\n",
       "  </thead>\n",
       "  <tbody>\n",
       "    <tr>\n",
       "      <th>45843</th>\n",
       "      <td>cpu2006-20060513-00002</td>\n",
       "      <td>434.zeusmp</td>\n",
       "      <td>1.00</td>\n",
       "      <td>NaN</td>\n",
       "      <td>2006-05-13</td>\n",
       "      <td>1997-04-01</td>\n",
       "    </tr>\n",
       "    <tr>\n",
       "      <th>45884</th>\n",
       "      <td>cpu2006-20060513-00009</td>\n",
       "      <td>434.zeusmp</td>\n",
       "      <td>8.92</td>\n",
       "      <td>8.92</td>\n",
       "      <td>2006-05-13</td>\n",
       "      <td>2006-01-01</td>\n",
       "    </tr>\n",
       "    <tr>\n",
       "      <th>45913</th>\n",
       "      <td>cpu2006-20060513-00013</td>\n",
       "      <td>434.zeusmp</td>\n",
       "      <td>10.10</td>\n",
       "      <td>NaN</td>\n",
       "      <td>2006-05-13</td>\n",
       "      <td>2006-05-01</td>\n",
       "    </tr>\n",
       "  </tbody>\n",
       "</table>\n",
       "</div>"
      ],
      "text/plain": [
       "                       testID   benchName   base  peak  test-date  manf-date\n",
       "45843  cpu2006-20060513-00002  434.zeusmp   1.00   NaN 2006-05-13 1997-04-01\n",
       "45884  cpu2006-20060513-00009  434.zeusmp   8.92  8.92 2006-05-13 2006-01-01\n",
       "45913  cpu2006-20060513-00013  434.zeusmp  10.10   NaN 2006-05-13 2006-05-01"
      ]
     },
     "execution_count": 4,
     "metadata": {},
     "output_type": "execute_result"
    }
   ],
   "source": [
    "zeus['manf-date'] = manf_date\n",
    "zeus.head(n = 3)\n"
   ]
  },
  {
   "cell_type": "code",
   "execution_count": 5,
   "metadata": {},
   "outputs": [
    {
     "data": {
      "image/png": "[encoded data removed]",
      "text/plain": [
       "<Figure size 432x288 with 1 Axes>"
      ]
     },
     "metadata": {
      "needs_background": "light"
     },
     "output_type": "display_data"
    }
   ],
   "source": [
    "plt.scatter(zeus['manf-date'], np.log(zeus['base']), alpha = 0.2)\n",
    "plt.xlabel(\"Date\")\n",
    "plt.ylabel(\"Base Score (log)\")\n",
    "plt.title(f\"Bench name: {zeus.name}\")\n",
    "plt.show()\n"
   ]
  },
  {
   "cell_type": "code",
   "execution_count": 6,
   "metadata": {},
   "outputs": [
    {
     "data": {
      "image/png": "[encoded data removed]",
      "text/plain": [
       "<Figure size 432x288 with 1 Axes>"
      ]
     },
     "metadata": {
      "needs_background": "light"
     },
     "output_type": "display_data"
    },
    {
     "data": {
      "text/html": [
       "<div>\n",
       "<style scoped>\n",
       "    .dataframe tbody tr th:only-of-type {\n",
       "        vertical-align: middle;\n",
       "    }\n",
       "\n",
       "    .dataframe tbody tr th {\n",
       "        vertical-align: top;\n",
       "    }\n",
       "\n",
       "    .dataframe thead th {\n",
       "        text-align: right;\n",
       "    }\n",
       "</style>\n",
       "<table border=\"1\" class=\"dataframe\">\n",
       "  <thead>\n",
       "    <tr style=\"text-align: right;\">\n",
       "      <th></th>\n",
       "      <th>Metrics</th>\n",
       "      <th>Results</th>\n",
       "    </tr>\n",
       "  </thead>\n",
       "  <tbody>\n",
       "    <tr>\n",
       "      <th>0</th>\n",
       "      <td>Coefficient</td>\n",
       "      <td>0.001135</td>\n",
       "    </tr>\n",
       "    <tr>\n",
       "      <th>1</th>\n",
       "      <td>Intercept</td>\n",
       "      <td>-829.631271</td>\n",
       "    </tr>\n",
       "    <tr>\n",
       "      <th>2</th>\n",
       "      <td>Mean Squared Error</td>\n",
       "      <td>0.157131</td>\n",
       "    </tr>\n",
       "    <tr>\n",
       "      <th>3</th>\n",
       "      <td>Root Mean Squared Error</td>\n",
       "      <td>0.396398</td>\n",
       "    </tr>\n",
       "    <tr>\n",
       "      <th>4</th>\n",
       "      <td>R-squared</td>\n",
       "      <td>0.685014</td>\n",
       "    </tr>\n",
       "  </tbody>\n",
       "</table>\n",
       "</div>"
      ],
      "text/plain": [
       "                   Metrics     Results\n",
       "0              Coefficient    0.001135\n",
       "1                Intercept -829.631271\n",
       "2       Mean Squared Error    0.157131\n",
       "3  Root Mean Squared Error    0.396398\n",
       "4                R-squared    0.685014"
      ]
     },
     "execution_count": 6,
     "metadata": {},
     "output_type": "execute_result"
    }
   ],
   "source": [
    "# Assign variables \n",
    "X = zeus['manf-date']\n",
    "y = zeus['base']\n",
    "\n",
    "# Keeping date structure\n",
    "X_date = zeus['manf-date']\n",
    "\n",
    "# Changing date time to ordinal so we can use it for prediction in the regression model \n",
    "X = X.map(dt.datetime.toordinal)\n",
    "\n",
    "# Reshape data \n",
    "def change_dim(data):\n",
    "    series_obj = pd.Series(data)\n",
    "\n",
    "    data = series_obj.values\n",
    "    return data.reshape((len(data),1))\n",
    "\n",
    "X = change_dim(X)\n",
    "y = change_dim(y)\n",
    "\n",
    "# log variable \n",
    "y = np.log(y)\n",
    "\n",
    "# Create model \n",
    "lm = linear_model.LinearRegression()\n",
    "\n",
    "fit = lm.fit(X,y)\n",
    "predicted = lm.predict(X)\n",
    "\n",
    "# The metrics\n",
    "def get_metrics(X, y, pred):\n",
    "    coef = lm.coef_\n",
    "    intercept = lm.intercept_\n",
    "    MSE = metrics.mean_squared_error(y, pred)\n",
    "    RMSE = metrics.mean_squared_error(y, pred, squared = False)\n",
    "    R2 = metrics.r2_score(y, pred)\n",
    "    \n",
    "    measures = ['Coefficient', 'Intercept', 'Mean Squared Error', \n",
    "               'Root Mean Squared Error', 'R-squared']\n",
    "    \n",
    "    metric_results = [coef[0][0], intercept[0], MSE, RMSE, R2]\n",
    "    \n",
    "    return pd.DataFrame(data = {'Metrics' : measures, 'Results' : metric_results})\n",
    "\n",
    "# Plot regression \n",
    "\n",
    "plt.scatter(X_date, y, color = 'black', label = 'True values', alpha = 0.5)\n",
    "plt.plot(X_date, predicted, color = 'red', label = 'Predicted')\n",
    "plt.title(\"Regression plot for Zeus Data set\") \n",
    "plt.xlabel(\"Date\") \n",
    "plt.ylabel(\"Base Score\")\n",
    "plt.legend()\n",
    "plt.show()\n",
    "\n",
    "metric_results = get_metrics(X, y, predicted)\n",
    "metric_results\n"
   ]
  },
  {
   "cell_type": "markdown",
   "metadata": {},
   "source": [
    "#### Answer \n",
    "Moore's Law still holds. Based on the plot, we can see an increasing linear trend following the logged data points. Additionally. R-squared shows an good measure of 0.69. MSE seems to be very low as well, making our model plot a good fit for the data. \n"
   ]
  },
  {
   "cell_type": "markdown",
   "metadata": {},
   "source": [
    "# 2. MNIST Digits\n",
    "\n",
    "No machine learning course would be complete without using the MNIST dataset. This dataset was a hugely influential dataset of handwriting digits (0-9). \n",
    "\n",
    "- Using scikit-learn, load the MNIST digits (see [here](http://scikit-learn.org/stable/modules/generated/sklearn.datasets.load_digits.html#sklearn.datasets.load_digits)).\n",
    "- Plot some of the examples. \n",
    "- Choose two digit classes (e.g. 7s and 3s), and train a k-nearest neighbor classifier.\n",
    "- Report your error rates on a held out part of the data. \n",
    "- (_optional_) Test your model on the full dataset (available from [here](http://yann.lecun.com/exdb/mnist/)).\n",
    "\n"
   ]
  },
  {
   "cell_type": "code",
   "execution_count": 1,
   "metadata": {},
   "outputs": [],
   "source": [
    "# Standard scientific Python imports\n",
    "import matplotlib.pyplot as plt\n",
    "\n",
    "# Import datasets, classifiers and performance metrics\n",
    "from sklearn import datasets, svm, metrics\n",
    "from sklearn.model_selection import train_test_split\n",
    "\n",
    "import numpy as np\n",
    "import pandas as pd\n",
    "import matplotlib.pyplot as plt\n",
    "import seaborn as sns\n",
    "from matplotlib.colors import ListedColormap\n",
    "from sklearn import neighbors, datasets\n",
    "\n",
    "# Load data set \n",
    "digits = datasets.load_digits()"
   ]
  },
  {
   "cell_type": "code",
   "execution_count": 2,
   "metadata": {},
   "outputs": [
    {
     "data": {
      "image/png": "[encoded data removed]",
      "text/plain": [
       "<Figure size 1080x216 with 10 Axes>"
      ]
     },
     "metadata": {
      "needs_background": "light"
     },
     "output_type": "display_data"
    }
   ],
   "source": [
    "# Plotting some examples\n",
    "\n",
    "_, axes = plt.subplots(nrows=1, ncols=10, figsize=(15, 3))\n",
    "for ax, image, label in zip(axes, digits.images, digits.target):\n",
    "    ax.set_axis_off()\n",
    "    ax.imshow(image, cmap=plt.cm.gray_r, interpolation='nearest')\n",
    "    ax.set_title('Training: %i' % label)\n"
   ]
  },
  {
   "cell_type": "code",
   "execution_count": 3,
   "metadata": {},
   "outputs": [],
   "source": [
    "# Choosing only data targets 1 and 7 \n",
    "data = digits.images[np.logical_or(digits.target == 1, digits.target ==7)]\n",
    "y_target = digits.target[np.logical_or(digits.target == 1, digits.target ==7)]"
   ]
  },
  {
   "cell_type": "code",
   "execution_count": 4,
   "metadata": {},
   "outputs": [],
   "source": [
    "# flattening the images \n",
    "# n_samples = len(digits.images) \n",
    "n_samples = len(data)\n",
    "data = data.reshape((n_samples, -1)) # reshaping to focus on the number of pixels\n",
    "\n",
    "# Creating the classifier \n",
    "n_neighbors = 5 # arbitrary\n",
    "clf = neighbors.KNeighborsClassifier(n_neighbors, weights = 'uniform')\n",
    "\n",
    "# Split data into 50% train and 50% test subsets\n",
    "X_train, X_test, y_train, y_test = train_test_split(\n",
    "    data, y_target, test_size=0.5, shuffle=False)\n",
    "\n",
    "# Fit and predict \n",
    "clf.fit(X_train, y_train)\n",
    "\n",
    "predicted = clf.predict(X_test)\n"
   ]
  },
  {
   "cell_type": "code",
   "execution_count": 5,
   "metadata": {},
   "outputs": [
    {
     "data": {
      "image/png": "[encoded data removed]",
      "text/plain": [
       "<Figure size 1080x216 with 5 Axes>"
      ]
     },
     "metadata": {
      "needs_background": "light"
     },
     "output_type": "display_data"
    }
   ],
   "source": [
    "# Show predicted samples \n",
    "_, axes = plt.subplots(nrows=1, ncols=5, figsize=(15, 3))\n",
    "for ax, image, prediction in zip(axes, X_test, predicted):\n",
    "    ax.set_axis_off()\n",
    "    image = image.reshape(8, 8)\n",
    "    ax.imshow(image, cmap=plt.cm.gray_r, interpolation='nearest')\n",
    "    ax.set_title(f'Prediction: {prediction}')"
   ]
  },
  {
   "cell_type": "code",
   "execution_count": 6,
   "metadata": {},
   "outputs": [
    {
     "name": "stdout",
     "output_type": "stream",
     "text": [
      "Classification report for classifier KNeighborsClassifier():\n",
      "              precision    recall  f1-score   support\n",
      "\n",
      "           1       1.00      1.00      1.00        91\n",
      "           7       1.00      1.00      1.00        90\n",
      "\n",
      "    accuracy                           1.00       181\n",
      "   macro avg       1.00      1.00      1.00       181\n",
      "weighted avg       1.00      1.00      1.00       181\n",
      "\n",
      "\n"
     ]
    }
   ],
   "source": [
    "print(f\"Classification report for classifier {clf}:\\n\"\n",
    "      f\"{metrics.classification_report(y_test, predicted)}\\n\")"
   ]
  },
  {
   "cell_type": "code",
   "execution_count": 9,
   "metadata": {},
   "outputs": [
    {
     "name": "stdout",
     "output_type": "stream",
     "text": [
      "Confusion matrix:\n",
      "[[91  0]\n",
      " [ 0 90]]\n"
     ]
    },
    {
     "data": {
      "image/png": "[encoded data removed]",
      "text/plain": [
       "<Figure size 432x288 with 2 Axes>"
      ]
     },
     "metadata": {
      "needs_background": "light"
     },
     "output_type": "display_data"
    },
    {
     "name": "stdout",
     "output_type": "stream",
     "text": [
      "Accuracy: 1.0\n"
     ]
    }
   ],
   "source": [
    "# Plot confusion matrix \n",
    "disp = metrics.plot_confusion_matrix(clf, X_test, y_test)\n",
    "disp.figure_.suptitle(\"Confusion Matrix\")\n",
    "print(f\"Confusion matrix:\\n{disp.confusion_matrix}\")\n",
    "\n",
    "plt.show()\n",
    "\n",
    "print(\"Accuracy:\", metrics.accuracy_score(y_test, predicted))"
   ]
  },
  {
   "cell_type": "markdown",
   "metadata": {},
   "source": [
    "### Optional: Testing on the entire data set "
   ]
  },
  {
   "cell_type": "code",
   "execution_count": 10,
   "metadata": {},
   "outputs": [
    {
     "name": "stdout",
     "output_type": "stream",
     "text": [
      "Classification report for classifier KNeighborsClassifier():\n",
      "              precision    recall  f1-score   support\n",
      "\n",
      "           0       0.99      1.00      0.99        88\n",
      "           1       0.95      0.98      0.96        91\n",
      "           2       0.98      0.93      0.95        86\n",
      "           3       0.89      0.90      0.90        91\n",
      "           4       1.00      0.95      0.97        92\n",
      "           5       0.96      0.98      0.97        91\n",
      "           6       0.99      1.00      0.99        91\n",
      "           7       0.95      1.00      0.97        89\n",
      "           8       0.95      0.90      0.92        88\n",
      "           9       0.91      0.92      0.92        92\n",
      "\n",
      "    accuracy                           0.96       899\n",
      "   macro avg       0.96      0.96      0.96       899\n",
      "weighted avg       0.96      0.96      0.96       899\n",
      "\n",
      "\n",
      "Confusion matrix:\n",
      "[[88  0  0  0  0  0  0  0  0  0]\n",
      " [ 0 89  0  0  0  0  0  0  1  1]\n",
      " [ 1  0 80  5  0  0  0  0  0  0]\n",
      " [ 0  0  1 82  0  2  0  3  2  1]\n",
      " [ 0  0  0  0 87  0  0  1  0  4]\n",
      " [ 0  0  0  0  0 89  1  0  0  1]\n",
      " [ 0  0  0  0  0  0 91  0  0  0]\n",
      " [ 0  0  0  0  0  0  0 89  0  0]\n",
      " [ 0  5  1  1  0  0  0  1 79  1]\n",
      " [ 0  0  0  4  0  2  0  0  1 85]]\n"
     ]
    },
    {
     "data": {
      "image/png": "[encoded data removed]",
      "text/plain": [
       "<Figure size 432x288 with 2 Axes>"
      ]
     },
     "metadata": {
      "needs_background": "light"
     },
     "output_type": "display_data"
    },
    {
     "name": "stdout",
     "output_type": "stream",
     "text": [
      "Accuracy: 0.9555061179087876\n"
     ]
    }
   ],
   "source": [
    "digits = datasets.load_digits()\n",
    "\n",
    "data = digits.images\n",
    "\n",
    "n_samples = len(data)\n",
    "data = data.reshape((n_samples, -1)) # reshaping to focus on the number of pixels\n",
    "\n",
    "# Creating the classifier \n",
    "n_neighbors = 5 # arbitrary\n",
    "clf = neighbors.KNeighborsClassifier(n_neighbors, weights = 'uniform')\n",
    "\n",
    "# Split data into 50% train and 50% test subsets\n",
    "X_train, X_test, y_train, y_test = train_test_split(\n",
    "    data, digits.target, test_size=0.5, shuffle=False)\n",
    "\n",
    "# Fit and predict \n",
    "clf.fit(X_train, y_train)\n",
    "\n",
    "predicted = clf.predict(X_test)\n",
    "\n",
    "print(f\"Classification report for classifier {clf}:\\n\"\n",
    "      f\"{metrics.classification_report(y_test, predicted)}\\n\")\n",
    "\n",
    "# Create confusion matrix \n",
    "\n",
    "disp = metrics.plot_confusion_matrix(clf, X_test, y_test)\n",
    "disp.figure_.suptitle(\"Confusion Matrix\")\n",
    "print(f\"Confusion matrix:\\n{disp.confusion_matrix}\")\n",
    "\n",
    "plt.show()\n",
    "\n",
    "print(\"Accuracy:\", metrics.accuracy_score(y_test, predicted))"
   ]
  },
  {
   "cell_type": "code",
   "execution_count": null,
   "metadata": {},
   "outputs": [],
   "source": []
  }
 ],
 "metadata": {
  "kernelspec": {
   "display_name": "Python 3",
   "language": "python",
   "name": "python3"
  },
  "language_info": {
   "codemirror_mode": {
    "name": "ipython",
    "version": 3
   },
   "file_extension": ".py",
   "mimetype": "text/x-python",
   "name": "python",
   "nbconvert_exporter": "python",
   "pygments_lexer": "ipython3",
   "version": "3.8.5"
  }
 },
 "nbformat": 4,
 "nbformat_minor": 4
}
