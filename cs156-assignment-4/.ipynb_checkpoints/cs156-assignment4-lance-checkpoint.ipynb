{
 "cells": [
  {
   "cell_type": "markdown",
   "metadata": {},
   "source": [
    "# CS156 Assignment 4 \n",
    "\n",
    "For this assignment, I'll be using the Image net data, specifically the man and woman images where I try to classify if a clothing is for man or woman. The data set consists of over 2,000 images and will be using PCA and LDA. "
   ]
  },
  {
   "cell_type": "code",
   "execution_count": 1,
   "metadata": {},
   "outputs": [],
   "source": [
    "from glob import glob\n",
    "from PIL import Image\n",
    "from resizeimage import resizeimage\n",
    "import numpy as np\n",
    "import matplotlib.pyplot as plt\n",
    "\n",
    "# create paths for all images\n",
    "man_clothes = glob('man/*')\n",
    "woman_clothes = glob('woman/*')"
   ]
  },
  {
   "cell_type": "markdown",
   "metadata": {},
   "source": [
    "## Data Preprocessing"
   ]
  },
  {
   "cell_type": "code",
   "execution_count": 2,
   "metadata": {},
   "outputs": [],
   "source": [
    "def image_resize(images, size):\n",
    "    \"\"\"\n",
    "    This function is used from Session 7.1 where we use to \n",
    "    resize images.\n",
    "    \"\"\"\n",
    "    flattened = []\n",
    "    # for each image path\n",
    "    for path in images:\n",
    "        # open it as a read file in binary mode\n",
    "        with open(path, 'r+b') as f:\n",
    "            # open it as an image\n",
    "            with Image.open(f) as image:\n",
    "                # resize the image to be more manageable\n",
    "                cover = resizeimage.resize_cover(image, size)\n",
    "                # flatten the matrix to an array and append it to all flattened images\n",
    "                flattened.append((np.array(cover).flatten(), 0))\n",
    "\n",
    "    # Flatten it once more\n",
    "    flattened = np.asarray(flattened, dtype = object)\n",
    "\n",
    "    # Declare which are the X and Y inputs\n",
    "    X = flattened[:,0]\n",
    "    Y = flattened[:,1]\n",
    "\n",
    "    # Use np.stack to put the data into the right dimension\n",
    "    X = np.stack(i for i in X)\n",
    "    Y = np.stack(i for i in Y)\n",
    "    \n",
    "    return X, Y\n"
   ]
  },
  {
   "cell_type": "code",
   "execution_count": 3,
   "metadata": {},
   "outputs": [
    {
     "name": "stderr",
     "output_type": "stream",
     "text": [
      "/Users/lancelot/opt/anaconda3/lib/python3.8/site-packages/IPython/core/magics/execution.py:1321: FutureWarning: arrays to stack must be passed as a \"sequence\" type such as list or tuple. Support for non-sequence iterables such as generators is deprecated as of NumPy 1.16 and will raise an error in the future.\n",
      "  exec(code, glob, local_ns)\n"
     ]
    },
    {
     "name": "stdout",
     "output_type": "stream",
     "text": [
      "(1242, 22500)\n",
      "(1270, 22500)\n",
      "CPU times: user 11.4 s, sys: 304 ms, total: 11.7 s\n",
      "Wall time: 11.8 s\n"
     ]
    }
   ],
   "source": [
    "%%time\n",
    "\n",
    "# chosen size reduction \n",
    "size = [50,150]\n",
    "\n",
    "man_images = image_resize(man_clothes, size)[0]\n",
    "woman_images = image_resize(woman_clothes, size)[0]\n",
    "\n",
    "#Check data shape \n",
    "print(man_images.shape) \n",
    "print(woman_images.shape) "
   ]
  },
  {
   "cell_type": "markdown",
   "metadata": {},
   "source": [
    "#### NOTE \n",
    "\n",
    "This error can be ignored since we do not need to implement the function again and that we have the desired dimensions. "
   ]
  },
  {
   "cell_type": "code",
   "execution_count": 5,
   "metadata": {},
   "outputs": [
    {
     "name": "stdout",
     "output_type": "stream",
     "text": [
      "(1242, 22501)\n",
      "(1270, 22501)\n",
      "(2512, 22501)\n"
     ]
    }
   ],
   "source": [
    "## Add classes and merge data \n",
    "\n",
    "# Add 1 for men and 0 for women classes \n",
    "new_column_ones = np.ones((len(man_images), 1))\n",
    "new_column_zeros = np.zeros((len(woman_images), 1))\n",
    "\n",
    "class_man_images = np.append(man_images, new_column_ones, axis = 1)\n",
    "class_woman_images = np.append(woman_images, new_column_zeros, axis = 1)\n",
    "\n",
    "print(class_man_images.shape)\n",
    "print(class_woman_images.shape)\n",
    "\n",
    "images_data = np.concatenate((class_man_images, class_woman_images), axis = 0)\n",
    "\n",
    "print(images_data.shape)"
   ]
  },
  {
   "cell_type": "code",
   "execution_count": 6,
   "metadata": {},
   "outputs": [
    {
     "name": "stdout",
     "output_type": "stream",
     "text": [
      "(2512, 22500)\n",
      "(2512,)\n",
      "Split data: \n",
      "(2009, 22500)\n",
      "(503, 22500)\n",
      "(2009,)\n",
      "(503,)\n"
     ]
    }
   ],
   "source": [
    "from sklearn.model_selection import train_test_split\n",
    "\n",
    "X = images_data[:, 0:-1] # select all except the last column \n",
    "y = images_data[:, -1] # select last column \n",
    "\n",
    "print(X.shape)\n",
    "print(y.shape)\n",
    "\n",
    "# Splitting training and testing for 80% and 20% \n",
    "X_train, X_test, y_train, y_test = train_test_split(X, y, test_size = 0.2, random_state = 24)\n",
    "\n",
    "print(\"Split data: \")\n",
    "print(X_train.shape)\n",
    "print(X_test.shape)\n",
    "print(y_train.shape)\n",
    "print(y_test.shape)\n"
   ]
  },
  {
   "cell_type": "markdown",
   "metadata": {},
   "source": [
    "## Using Logistic Regression without PCA or LDA "
   ]
  },
  {
   "cell_type": "code",
   "execution_count": 40,
   "metadata": {},
   "outputs": [],
   "source": [
    "from sklearn.linear_model import LogisticRegression \n"
   ]
  },
  {
   "cell_type": "code",
   "execution_count": 56,
   "metadata": {},
   "outputs": [
    {
     "name": "stdout",
     "output_type": "stream",
     "text": [
      "CPU times: user 47min 26s, sys: 1min 45s, total: 49min 11s\n",
      "Wall time: 4min 47s\n"
     ]
    }
   ],
   "source": [
    "%%time \n",
    "#6.44s \n",
    "\n",
    "logreg = LogisticRegression(max_iter=7000) # < 7000 iter does not converge \n",
    "\n",
    "logreg.fit(X_train, y_train)\n",
    "\n",
    "logreg_pred = logreg.predict(X_test)"
   ]
  },
  {
   "cell_type": "code",
   "execution_count": 67,
   "metadata": {},
   "outputs": [
    {
     "name": "stdout",
     "output_type": "stream",
     "text": [
      "---SCORES---\n",
      "Training Score: 1.0\n",
      "Testing Score: 0.5387673956262425\n"
     ]
    }
   ],
   "source": [
    "# Acquire Metrics \n",
    "logreg_training_score = logreg.score(X_train, y_train)\n",
    "logreg_testing_score = logreg.score(X_test, y_test)\n",
    "\n",
    "print(\"---SCORES---\")\n",
    "print(\"Training Score:\", logreg_training_score)\n",
    "print(\"Testing Score:\", logreg_testing_score)"
   ]
  },
  {
   "cell_type": "code",
   "execution_count": 68,
   "metadata": {},
   "outputs": [
    {
     "data": {
      "image/png": "[encoded data removed]",
      "text/plain": [
       "<Figure size 432x288 with 2 Axes>"
      ]
     },
     "metadata": {
      "needs_background": "light"
     },
     "output_type": "display_data"
    }
   ],
   "source": [
    "from sklearn import metrics\n",
    "\n",
    "metrics.plot_confusion_matrix(logreg, X_test, y_test, cmap = 'binary')\n",
    "plt.title(\"Logreg without PCA or LDA\")\n",
    "plt.show()"
   ]
  },
  {
   "cell_type": "markdown",
   "metadata": {},
   "source": [
    "## Logistic Regression with PCA \n",
    "\n",
    "As the first step, we would just like to check on how the trend of the scree plot behaves when we apply PCA. Here we just test up until 20 n_components since beyond that would just be purely flat variance and would be really small to see. "
   ]
  },
  {
   "cell_type": "code",
   "execution_count": 44,
   "metadata": {},
   "outputs": [
    {
     "name": "stdout",
     "output_type": "stream",
     "text": [
      "Data shape: (2009, 20) (503, 20)\n"
     ]
    },
    {
     "data": {
      "image/png": "[encoded data removed]",
      "text/plain": [
       "<Figure size 432x288 with 1 Axes>"
      ]
     },
     "metadata": {
      "needs_background": "light"
     },
     "output_type": "display_data"
    }
   ],
   "source": [
    "# Checking how PCA works out on the scree plot \n",
    "from sklearn import decomposition\n",
    "\n",
    "# We will by looking at how much variance we get \n",
    "n_components = 20\n",
    "\n",
    "pca = decomposition.PCA(n_components = n_components)\n",
    "X_PCA_train = pca.fit_transform(X_train)\n",
    "X_PCA_test = pca.fit_transform(X_test)\n",
    "\n",
    "print(\"Data shape:\", X_PCA_train.shape, X_PCA_test.shape)\n",
    "\n",
    "# Plot the variance on a scree plot \n",
    "def plot_scree(n_comp, pca_var):\n",
    "    plt.bar(np.linspace(1, n_comp, n_comp),pca_var)\n",
    "\n",
    "    plt.title(\"Scree Plot of the Variance Ratio\")\n",
    "    plt.xlabel(\"n components\")\n",
    "    plt.ylabel(\"Variance\")\n",
    "\n",
    "    plt.show()\n",
    "    \n",
    "plot_scree(n_components, pca.explained_variance_ratio_)\n",
    "\n"
   ]
  },
  {
   "cell_type": "markdown",
   "metadata": {},
   "source": [
    "#### Using multiple n_comps \n",
    "\n",
    "Here, we trying to measure the training and testing score using different n_comps for our PCA and logreg. "
   ]
  },
  {
   "cell_type": "code",
   "execution_count": 14,
   "metadata": {},
   "outputs": [],
   "source": [
    "def PCA_logreg_metrics(X_train, X_test, y_train, y_test, n_comps): \n",
    "    \"\"\"\n",
    "    This function aims to check on the training and testing \n",
    "    scores with varying n_commponents set for the PCA. \n",
    "    \n",
    "    Input: data \n",
    "    Output: Training and testing scores \n",
    "    \"\"\"\n",
    "    # Metrics \n",
    "    training_scores = []\n",
    "    testing_scores = []\n",
    "    \n",
    "    for n in n_comps: \n",
    "        # Fit PCA \n",
    "        pca = decomposition.PCA(n_components = n)\n",
    "        X_PCA_train = pca.fit_transform(X_train)\n",
    "        X_PCA_test = pca.fit_transform(X_test)\n",
    "        \n",
    "        # Fit LogReg \n",
    "        logreg = LogisticRegression(max_iter=100)\n",
    "        logreg.fit(X_PCA_train, y_train)\n",
    "        \n",
    "        training_scores.append(logreg.score(X_PCA_train, y_train))\n",
    "        testing_scores.append(logreg.score(X_PCA_test, y_test))\n",
    "        \n",
    "    return training_scores, testing_scores "
   ]
  },
  {
   "cell_type": "code",
   "execution_count": 15,
   "metadata": {},
   "outputs": [
    {
     "name": "stdout",
     "output_type": "stream",
     "text": [
      "CPU times: user 48min 3s, sys: 3min 9s, total: 51min 12s\n",
      "Wall time: 5min 55s\n"
     ]
    }
   ],
   "source": [
    "%%time \n",
    "\n",
    "# Get number of components from 1 to 99 \n",
    "n_comps = np.linspace(1, 99, 99).astype('int64')\n",
    "\n",
    "training_scores, testing_scores = PCA_logreg_metrics(X_train, X_test, y_train, y_test, n_comps)"
   ]
  },
  {
   "cell_type": "code",
   "execution_count": 54,
   "metadata": {},
   "outputs": [
    {
     "data": {
      "text/plain": [
       "<matplotlib.legend.Legend at 0x7fa90eba6f40>"
      ]
     },
     "execution_count": 54,
     "metadata": {},
     "output_type": "execute_result"
    },
    {
     "data": {
      "image/png": "[encoded data removed]",
      "text/plain": [
       "<Figure size 1080x360 with 2 Axes>"
      ]
     },
     "metadata": {
      "needs_background": "light"
     },
     "output_type": "display_data"
    }
   ],
   "source": [
    "# Plot results \n",
    "\n",
    "fig, ax = plt.subplots(1,2, figsize = [15,5])\n",
    "\n",
    "ax[0].plot(training_scores, label = 'training')\n",
    "ax[0].plot(testing_scores, label = 'testing')\n",
    "ax[0].set_title(\"Training vs Testing scores using PCA\")\n",
    "ax[0].set_xlabel(\"n_components\")\n",
    "ax[0].set_ylabel(\"score\")\n",
    "ax[0].legend()\n",
    "\n",
    "ax[1].plot(training_scores[0:15], label = 'training')\n",
    "ax[1].plot(testing_scores[0:15], label = 'testing')\n",
    "ax[1].set_title(\"Training vs Testing scores using PCA (Zoomed in)\")\n",
    "ax[1].set_xlabel(\"n_components\")\n",
    "ax[1].set_ylabel(\"score\")\n",
    "ax[1].legend()\n"
   ]
  },
  {
   "cell_type": "markdown",
   "metadata": {},
   "source": [
    "**NOTES**\n",
    "\n",
    "1 - 20: training and testing score increasing together \n",
    "\n",
    "20 - 40: good measure of n_components with high testing score \n",
    "\n",
    "40 and beyond: starting to overfit "
   ]
  },
  {
   "cell_type": "markdown",
   "metadata": {},
   "source": [
    "### Best PCA parameters\n",
    "\n",
    "Based on the plot, I tried on different n_comps between 1-10 since it has the highest pair of training and testing scores. I ended up with 5. "
   ]
  },
  {
   "cell_type": "code",
   "execution_count": 59,
   "metadata": {},
   "outputs": [
    {
     "name": "stdout",
     "output_type": "stream",
     "text": [
      "---SCORES---\n",
      "Training Score: 0.6301642608262817\n",
      "Testing Score: 0.6003976143141153\n"
     ]
    }
   ],
   "source": [
    "# We will by looking at how much variance we get \n",
    "n_components = 5\n",
    "\n",
    "pca = decomposition.PCA(n_components = n_components)\n",
    "X_PCA_train = pca.fit_transform(X_train)\n",
    "X_PCA_test = pca.fit_transform(X_test)\n",
    "\n",
    "\n",
    "logreg_PCA = LogisticRegression(max_iter=100)\n",
    "\n",
    "logreg_PCA.fit(X_PCA_train, y_train)\n",
    "\n",
    "logreg_pred = logreg_PCA.predict(X_PCA_test)\n",
    "\n",
    "# Acquire Metrics \n",
    "logreg_PCA_training_score = logreg_PCA.score(X_PCA_train, y_train)\n",
    "logreg_PCA_testing_score = logreg_PCA.score(X_PCA_test, y_test)\n",
    "\n",
    "print(\"---SCORES---\")\n",
    "print(\"Training Score:\", logreg_PCA_training_score)\n",
    "print(\"Testing Score:\", logreg_PCA_testing_score)"
   ]
  },
  {
   "cell_type": "code",
   "execution_count": 60,
   "metadata": {},
   "outputs": [
    {
     "data": {
      "image/png": "[encoded data removed]",
      "text/plain": [
       "<Figure size 432x288 with 2 Axes>"
      ]
     },
     "metadata": {
      "needs_background": "light"
     },
     "output_type": "display_data"
    }
   ],
   "source": [
    "# Plot confusion matrix \n",
    "metrics.plot_confusion_matrix(logreg_PCA, X_PCA_test, y_test, cmap = 'binary')\n",
    "plt.title(\"Logreg without PCA or LDA\")\n",
    "plt.show()"
   ]
  },
  {
   "cell_type": "markdown",
   "metadata": {},
   "source": [
    "## Logistic Regression with LDA "
   ]
  },
  {
   "cell_type": "code",
   "execution_count": 64,
   "metadata": {},
   "outputs": [],
   "source": [
    "# Implement LDA\n",
    "from sklearn.discriminant_analysis import LinearDiscriminantAnalysis\n"
   ]
  },
  {
   "cell_type": "code",
   "execution_count": 65,
   "metadata": {},
   "outputs": [
    {
     "name": "stdout",
     "output_type": "stream",
     "text": [
      "CPU times: user 50.2 s, sys: 2.86 s, total: 53 s\n",
      "Wall time: 13.8 s\n"
     ]
    }
   ],
   "source": [
    "%%time\n",
    "\n",
    "# Fitting LDA \n",
    "lda = LinearDiscriminantAnalysis()\n",
    "\n",
    "X_LDA_train = lda.fit_transform(X_train, y_train)\n",
    "X_LDA_test = lda.transform(X_test)\n",
    "\n"
   ]
  },
  {
   "cell_type": "code",
   "execution_count": 66,
   "metadata": {},
   "outputs": [
    {
     "data": {
      "image/png": "[encoded data removed]",
      "text/plain": [
       "<Figure size 1080x360 with 2 Axes>"
      ]
     },
     "metadata": {
      "needs_background": "light"
     },
     "output_type": "display_data"
    }
   ],
   "source": [
    "# See how our LDA performs \n",
    "\n",
    "fig, ax = plt.subplots(1,2, figsize = [15,5])\n",
    "\n",
    "ax[0].hist(X_LDA_train)\n",
    "ax[0].set_title(f\"Training with LDA score {lda.score(X_train,y_train)}\") \n",
    "ax[1].hist(X_LDA_test)\n",
    "ax[1].set_title(f\"Testing with LDA score {lda.score(X_test,y_test)}\")\n",
    "\n",
    "plt.show()"
   ]
  },
  {
   "cell_type": "code",
   "execution_count": 70,
   "metadata": {},
   "outputs": [
    {
     "name": "stdout",
     "output_type": "stream",
     "text": [
      "---SCORES---\n",
      "Training Score: 0.9990044798407167\n",
      "Testing Score: 0.5546719681908548\n"
     ]
    }
   ],
   "source": [
    "# Implementing with LogReg \n",
    "\n",
    "logreg_LDA = LogisticRegression(max_iter=100)\n",
    "\n",
    "logreg_LDA.fit(X_LDA_train, y_train)\n",
    "\n",
    "logreg_pred = logreg_LDA.predict(X_LDA_test)\n",
    "\n",
    "# Acquire Metrics \n",
    "logreg_LDA_training_score = logreg_LDA.score(X_LDA_train, y_train)\n",
    "logreg_LDA_testing_score = logreg_LDA.score(X_LDA_test, y_test)\n",
    "\n",
    "print(\"---SCORES---\")\n",
    "print(\"Training Score:\", logreg_LDA_training_score)\n",
    "print(\"Testing Score:\", logreg_LDA_testing_score)"
   ]
  },
  {
   "cell_type": "code",
   "execution_count": 71,
   "metadata": {},
   "outputs": [
    {
     "data": {
      "image/png": "[encoded data removed]",
      "text/plain": [
       "<Figure size 432x288 with 2 Axes>"
      ]
     },
     "metadata": {
      "needs_background": "light"
     },
     "output_type": "display_data"
    }
   ],
   "source": [
    "# Plot confusion matrix \n",
    "metrics.plot_confusion_matrix(logreg_LDA, X_LDA_test, y_test, cmap  = 'binary')\n",
    "plt.title(\"Logreg without PCA or LDA\")\n",
    "plt.show()"
   ]
  },
  {
   "cell_type": "code",
   "execution_count": 99,
   "metadata": {},
   "outputs": [
    {
     "name": "stdout",
     "output_type": "stream",
     "text": [
      "---SCORES---\n",
      "Training Score: 0.9990044798407167\n",
      "Testing Score: 0.5546719681908548\n"
     ]
    }
   ],
   "source": [
    "### Trying out linear SVC for LDA \n",
    "from sklearn.svm import LinearSVC\n",
    "from sklearn.pipeline import make_pipeline\n",
    "from sklearn.preprocessing import StandardScaler\n",
    "\n",
    "# need to make pipeline to help with convergence \n",
    "# linear_LDA = make_pipeline(StandardScaler(), LinearSVC(C = 1e-9))\n",
    "linear_LDA = LinearSVC(C = 1e-5)\n",
    "linear_LDA.fit(X_LDA_train, y_train)\n",
    "\n",
    "# Acquire Metrics \n",
    "linear_LDA_training_score = linear_LDA.score(X_LDA_train, y_train)\n",
    "linear_LDA_testing_score = linear_LDA.score(X_LDA_test, y_test)\n",
    "\n",
    "print(\"---SCORES---\")\n",
    "print(\"Training Score:\", linear_LDA_training_score)\n",
    "print(\"Testing Score:\", linear_LDA_testing_score)"
   ]
  },
  {
   "cell_type": "markdown",
   "metadata": {},
   "source": [
    "## Summary of Analysis "
   ]
  },
  {
   "cell_type": "code",
   "execution_count": 73,
   "metadata": {},
   "outputs": [
    {
     "name": "stdout",
     "output_type": "stream",
     "text": [
      "LOGREG\n",
      "1.0\n",
      "0.5387673956262425\n",
      "LOGREG PCA\n",
      "0.6301642608262817\n",
      "0.6003976143141153\n",
      "LOGREG LDA\n",
      "0.9990044798407167\n",
      "0.5546719681908548\n"
     ]
    }
   ],
   "source": [
    "print(\"LOGREG\")\n",
    "print(logreg_training_score)\n",
    "print(logreg_testing_score)\n",
    "\n",
    "print(\"LOGREG PCA\")\n",
    "print(logreg_PCA_training_score)\n",
    "print(logreg_PCA_testing_score)\n",
    "\n",
    "print(\"LOGREG LDA\")\n",
    "print(logreg_LDA_training_score)\n",
    "print(logreg_LDA_testing_score)"
   ]
  },
  {
   "cell_type": "code",
   "execution_count": null,
   "metadata": {},
   "outputs": [],
   "source": []
  },
  {
   "cell_type": "code",
   "execution_count": null,
   "metadata": {},
   "outputs": [],
   "source": []
  }
 ],
 "metadata": {
  "kernelspec": {
   "display_name": "Python 3",
   "language": "python",
   "name": "python3"
  },
  "language_info": {
   "codemirror_mode": {
    "name": "ipython",
    "version": 3
   },
   "file_extension": ".py",
   "mimetype": "text/x-python",
   "name": "python",
   "nbconvert_exporter": "python",
   "pygments_lexer": "ipython3",
   "version": "3.8.5"
  }
 },
 "nbformat": 4,
 "nbformat_minor": 4
}
