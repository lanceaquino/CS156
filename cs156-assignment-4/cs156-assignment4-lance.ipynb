{
 "cells": [
  {
   "cell_type": "markdown",
   "metadata": {},
   "source": [
    "# CS156 Assignment 4 \n",
    "\n",
    "For this assignment, I'll be using the Image net data, specifically the man and woman images where I try to classify if a clothing is for man or woman. The data set consists of over 2,000 images and will be using PCA and LDA. \n",
    "\n",
    "Link to the working notebook can be accessed [here](https://github.com/lanceaquino/CS156-work-products-git/blob/main/cs156-assignment-4/cs156-assignment4-lance.ipynb). "
   ]
  },
  {
   "cell_type": "code",
   "execution_count": 1,
   "metadata": {},
   "outputs": [],
   "source": [
    "from glob import glob\n",
    "from PIL import Image\n",
    "from resizeimage import resizeimage\n",
    "import numpy as np\n",
    "import matplotlib.pyplot as plt\n",
    "\n",
    "# create paths for all images\n",
    "man_clothes = glob('man/*')\n",
    "woman_clothes = glob('woman/*')"
   ]
  },
  {
   "cell_type": "markdown",
   "metadata": {},
   "source": [
    "## Data Preprocessing"
   ]
  },
  {
   "cell_type": "code",
   "execution_count": 2,
   "metadata": {},
   "outputs": [],
   "source": [
    "def image_resize(images, size):\n",
    "    \"\"\"\n",
    "    This function is used from Session 7.1 where we use to \n",
    "    resize images.\n",
    "    \"\"\"\n",
    "    flattened = []\n",
    "    # for each image path\n",
    "    for path in images:\n",
    "        # open it as a read file in binary mode\n",
    "        with open(path, 'r+b') as f:\n",
    "            # open it as an image\n",
    "            with Image.open(f) as image:\n",
    "                # resize the image to be more manageable\n",
    "                cover = resizeimage.resize_cover(image, size)\n",
    "                # flatten the matrix to an array and append it to all flattened images\n",
    "                flattened.append((np.array(cover).flatten(), 0))\n",
    "\n",
    "    # Flatten it once more\n",
    "    flattened = np.asarray(flattened, dtype = object)\n",
    "\n",
    "    # Declare which are the X and Y inputs\n",
    "    X = flattened[:,0]\n",
    "    Y = flattened[:,1]\n",
    "\n",
    "    # Use np.stack to put the data into the right dimension\n",
    "    X = np.stack(i for i in X)\n",
    "    Y = np.stack(i for i in Y)\n",
    "    \n",
    "    return X, Y\n"
   ]
  },
  {
   "cell_type": "code",
   "execution_count": 3,
   "metadata": {},
   "outputs": [
    {
     "name": "stderr",
     "output_type": "stream",
     "text": [
      "/Users/lancelot/opt/anaconda3/lib/python3.8/site-packages/IPython/core/magics/execution.py:1321: FutureWarning: arrays to stack must be passed as a \"sequence\" type such as list or tuple. Support for non-sequence iterables such as generators is deprecated as of NumPy 1.16 and will raise an error in the future.\n",
      "  exec(code, glob, local_ns)\n"
     ]
    },
    {
     "name": "stdout",
     "output_type": "stream",
     "text": [
      "(1242, 22500)\n",
      "(1270, 22500)\n",
      "CPU times: user 11.6 s, sys: 345 ms, total: 12 s\n",
      "Wall time: 12.1 s\n"
     ]
    }
   ],
   "source": [
    "%%time\n",
    "\n",
    "# chosen size reduction \n",
    "size = [50,150]\n",
    "\n",
    "man_images = image_resize(man_clothes, size)[0]\n",
    "woman_images = image_resize(woman_clothes, size)[0]\n",
    "\n",
    "#Check data shape \n",
    "print(man_images.shape) \n",
    "print(woman_images.shape) "
   ]
  },
  {
   "cell_type": "markdown",
   "metadata": {},
   "source": [
    "#### NOTE \n",
    "\n",
    "This error can be ignored since we do not need to implement the function again and that we have the desired dimensions. "
   ]
  },
  {
   "cell_type": "code",
   "execution_count": 4,
   "metadata": {},
   "outputs": [
    {
     "name": "stdout",
     "output_type": "stream",
     "text": [
      "(1242, 22501)\n",
      "(1270, 22501)\n",
      "(2512, 22501)\n"
     ]
    }
   ],
   "source": [
    "## Add classes and merge data \n",
    "\n",
    "# Add 1 for men and 0 for women classes \n",
    "new_column_ones = np.ones((len(man_images), 1))\n",
    "new_column_zeros = np.zeros((len(woman_images), 1))\n",
    "\n",
    "class_man_images = np.append(man_images, new_column_ones, axis = 1)\n",
    "class_woman_images = np.append(woman_images, new_column_zeros, axis = 1)\n",
    "\n",
    "print(class_man_images.shape)\n",
    "print(class_woman_images.shape)\n",
    "\n",
    "images_data = np.concatenate((class_man_images, class_woman_images), axis = 0)\n",
    "\n",
    "print(images_data.shape)"
   ]
  },
  {
   "cell_type": "code",
   "execution_count": 5,
   "metadata": {},
   "outputs": [
    {
     "name": "stdout",
     "output_type": "stream",
     "text": [
      "(2512, 22500)\n",
      "(2512,)\n",
      "Split data: \n",
      "(2009, 22500)\n",
      "(503, 22500)\n",
      "(2009,)\n",
      "(503,)\n"
     ]
    }
   ],
   "source": [
    "from sklearn.model_selection import train_test_split\n",
    "\n",
    "X = images_data[:, 0:-1] # select all except the last column \n",
    "y = images_data[:, -1] # select last column \n",
    "\n",
    "print(X.shape)\n",
    "print(y.shape)\n",
    "\n",
    "# Splitting training and testing for 80% and 20% \n",
    "X_train, X_test, y_train, y_test = train_test_split(X, y, test_size = 0.2, random_state = 24)\n",
    "\n",
    "print(\"Split data: \")\n",
    "print(X_train.shape)\n",
    "print(X_test.shape)\n",
    "print(y_train.shape)\n",
    "print(y_test.shape)\n"
   ]
  },
  {
   "cell_type": "markdown",
   "metadata": {},
   "source": [
    "## Using Logistic Regression without PCA or LDA "
   ]
  },
  {
   "cell_type": "code",
   "execution_count": 6,
   "metadata": {},
   "outputs": [],
   "source": [
    "from sklearn.linear_model import LogisticRegression \n",
    "from sklearn.linear_model import LogisticRegressionCV\n",
    "from sklearn.pipeline import make_pipeline\n",
    "from sklearn.preprocessing import StandardScaler\n",
    "from sklearn import metrics"
   ]
  },
  {
   "cell_type": "code",
   "execution_count": 7,
   "metadata": {},
   "outputs": [
    {
     "name": "stdout",
     "output_type": "stream",
     "text": [
      "---SCORES---\n",
      "Training Score: 0.75311100049776\n",
      "Testing Score: 0.6302186878727635\n",
      "CPU times: user 6min 58s, sys: 22.6 s, total: 7min 21s\n",
      "Wall time: 44.7 s\n"
     ]
    }
   ],
   "source": [
    "%%time \n",
    "\n",
    "logregCV = make_pipeline(StandardScaler(), \n",
    "                         LogisticRegressionCV(cv = 5, random_state = 0, tol = 1))\n",
    "\n",
    "# Fit values\n",
    "logregCV.fit(X_train, y_train)\n",
    "\n",
    "# Acquire Metrics \n",
    "logregCV_training_score = logregCV.score(X_train, y_train)\n",
    "logregCV_testing_score = logregCV.score(X_test, y_test)\n",
    "\n",
    "print(\"---SCORES---\")\n",
    "print(\"Training Score:\", logregCV_training_score)\n",
    "print(\"Testing Score:\", logregCV_testing_score)"
   ]
  },
  {
   "cell_type": "code",
   "execution_count": 8,
   "metadata": {},
   "outputs": [
    {
     "data": {
      "image/png": "[encoded data removed]",
      "text/plain": [
       "<Figure size 432x288 with 2 Axes>"
      ]
     },
     "metadata": {
      "needs_background": "light"
     },
     "output_type": "display_data"
    }
   ],
   "source": [
    "# Plot confusion metrics \n",
    "metrics.plot_confusion_matrix(logregCV, X_test, y_test, cmap = 'binary')\n",
    "plt.title(\"Logreg without PCA or LDA\")\n",
    "plt.show()"
   ]
  },
  {
   "cell_type": "markdown",
   "metadata": {},
   "source": [
    "## Logistic Regression with PCA \n",
    "\n",
    "As the first step, we would just like to check on how the trend of the scree plot behaves when we apply PCA. Here we just test up until 20 n_components since beyond that would just be purely flat variance and would be really small to see. "
   ]
  },
  {
   "cell_type": "code",
   "execution_count": 9,
   "metadata": {},
   "outputs": [
    {
     "name": "stdout",
     "output_type": "stream",
     "text": [
      "Data shape: (2009, 20) (503, 20)\n"
     ]
    },
    {
     "data": {
      "image/png": "[encoded data removed]",
      "text/plain": [
       "<Figure size 432x288 with 1 Axes>"
      ]
     },
     "metadata": {
      "needs_background": "light"
     },
     "output_type": "display_data"
    }
   ],
   "source": [
    "# Checking how PCA works out on the scree plot \n",
    "from sklearn import decomposition\n",
    "\n",
    "# We will by looking at how much variance we get \n",
    "n_components = 20\n",
    "\n",
    "pca = decomposition.PCA(n_components = n_components)\n",
    "X_PCA_train = pca.fit_transform(X_train)\n",
    "X_PCA_test = pca.fit_transform(X_test)\n",
    "\n",
    "print(\"Data shape:\", X_PCA_train.shape, X_PCA_test.shape)\n",
    "\n",
    "# Plot the variance on a scree plot \n",
    "def plot_scree(n_comp, pca_var):\n",
    "    plt.bar(np.linspace(1, n_comp, n_comp),pca_var)\n",
    "\n",
    "    plt.title(\"Scree Plot of the Variance Ratio\")\n",
    "    plt.xlabel(\"n components\")\n",
    "    plt.ylabel(\"Variance\")\n",
    "\n",
    "    plt.show()\n",
    "    \n",
    "plot_scree(n_components, pca.explained_variance_ratio_)\n",
    "\n"
   ]
  },
  {
   "cell_type": "markdown",
   "metadata": {},
   "source": [
    "#### Using multiple n_comps \n",
    "\n",
    "Here, we trying to measure the training and testing score using different n_comps for our PCA and logreg. "
   ]
  },
  {
   "cell_type": "code",
   "execution_count": 10,
   "metadata": {},
   "outputs": [],
   "source": [
    "def PCA_logreg_metrics(X_train, X_test, y_train, y_test, n_comps): \n",
    "    \"\"\"\n",
    "    This function aims to check on the training and testing \n",
    "    scores with varying n_commponents set for the PCA. \n",
    "    \n",
    "    Input: data \n",
    "    Output: Training and testing scores \n",
    "    \"\"\"\n",
    "    # Metrics \n",
    "    training_scores = []\n",
    "    testing_scores = []\n",
    "    \n",
    "    for n in n_comps: \n",
    "        # Fit PCA \n",
    "        pca = decomposition.PCA(n_components = n)\n",
    "        X_PCA_train = pca.fit_transform(X_train)\n",
    "        X_PCA_test = pca.fit_transform(X_test)\n",
    "        \n",
    "        # Fit LogReg \n",
    "        logreg = LogisticRegression(max_iter=100)\n",
    "        logreg.fit(X_PCA_train, y_train)\n",
    "        \n",
    "        training_scores.append(logreg.score(X_PCA_train, y_train))\n",
    "        testing_scores.append(logreg.score(X_PCA_test, y_test))\n",
    "        \n",
    "    return training_scores, testing_scores "
   ]
  },
  {
   "cell_type": "code",
   "execution_count": null,
   "metadata": {},
   "outputs": [],
   "source": [
    "%%time \n",
    "\n",
    "# Get number of components from 1 to 99 \n",
    "n_comps = np.linspace(1, 49, 49).astype('int64')\n",
    "\n",
    "training_scores, testing_scores = PCA_logreg_metrics(X_train, X_test, y_train, y_test, n_comps)"
   ]
  },
  {
   "cell_type": "code",
   "execution_count": null,
   "metadata": {},
   "outputs": [],
   "source": [
    "# Plot results \n",
    "\n",
    "fig, ax = plt.subplots(1,2, figsize = [15,5])\n",
    "\n",
    "ax[0].plot(n_comps, training_scores, label = 'training')\n",
    "ax[0].plot(n_comps, testing_scores, label = 'testing')\n",
    "ax[0].set_title(\"Training vs Testing scores using PCA\")\n",
    "ax[0].set_xlabel(\"n_components\")\n",
    "ax[0].set_ylabel(\"score\")\n",
    "ax[0].legend()\n",
    "\n",
    "ax[1].plot(n_comps[0:15], training_scores[0:15], label = 'training')\n",
    "ax[1].plot(n_comps[0:15], testing_scores[0:15], label = 'testing')\n",
    "ax[1].set_title(\"Training vs Testing scores using PCA (Zoomed in)\")\n",
    "ax[1].set_xlabel(\"n_components\")\n",
    "ax[1].set_ylabel(\"score\")\n",
    "ax[1].legend()\n",
    "plt.show()\n"
   ]
  },
  {
   "cell_type": "markdown",
   "metadata": {},
   "source": [
    "**NOTES**\n",
    "\n",
    "0 - 10: good measure of n_components with high testing score \n",
    "\n",
    "15 and beyond: starting to overfit "
   ]
  },
  {
   "cell_type": "markdown",
   "metadata": {},
   "source": [
    "### Best PCA parameters\n",
    "\n",
    "Based on the plot, I tried on different n_comps between 1-15 since it has the highest pair of training and testing scores. I ended up with 5. "
   ]
  },
  {
   "cell_type": "code",
   "execution_count": null,
   "metadata": {},
   "outputs": [],
   "source": [
    "# We will by looking at how much variance we get \n",
    "n_components = 5\n",
    "\n",
    "pca = decomposition.PCA(n_components = n_components)\n",
    "X_PCA_train = pca.fit_transform(X_train)\n",
    "X_PCA_test = pca.fit_transform(X_test)\n",
    "\n",
    "logreg_PCA = LogisticRegression(max_iter=100)\n",
    "\n",
    "logreg_PCA.fit(X_PCA_train, y_train)\n",
    "\n",
    "logreg_pred = logreg_PCA.predict(X_PCA_test)\n",
    "\n",
    "# Acquire Metrics \n",
    "logreg_PCA_training_score = logreg_PCA.score(X_PCA_train, y_train)\n",
    "logreg_PCA_testing_score = logreg_PCA.score(X_PCA_test, y_test)\n",
    "\n",
    "print(\"---SCORES---\")\n",
    "print(\"Training Score:\", logreg_PCA_training_score)\n",
    "print(\"Testing Score:\", logreg_PCA_testing_score)"
   ]
  },
  {
   "cell_type": "code",
   "execution_count": null,
   "metadata": {},
   "outputs": [],
   "source": [
    "# Plot confusion matrix \n",
    "metrics.plot_confusion_matrix(logreg_PCA, X_PCA_test, y_test, cmap = 'binary')\n",
    "plt.title(\"Logreg with PCA\")\n",
    "plt.show()"
   ]
  },
  {
   "cell_type": "markdown",
   "metadata": {},
   "source": [
    "#### Experimenting PCA with CV \n",
    "\n",
    "Based on the observations in the graph, we noticed that the data tends to overfit once we increase the number of components. With n_comp higher than 400, the testing score reaches over 0.9 and testing score is approx. 0.5. I experimented with using this n_comp and performing CV with the LogReg model using PCA-transformed X_train and X_test and did not see any improvements. The mode had a less overfit but with a low testing score (training = 0.7, testing = 0.54). \n",
    "\n",
    "I did not paste the code here anymore since I considered this as exploratory and will not be used for the analysis"
   ]
  },
  {
   "cell_type": "markdown",
   "metadata": {},
   "source": [
    "## Logistic Regression with LDA "
   ]
  },
  {
   "cell_type": "code",
   "execution_count": null,
   "metadata": {},
   "outputs": [],
   "source": [
    "# Implement LDA\n",
    "from sklearn.discriminant_analysis import LinearDiscriminantAnalysis\n"
   ]
  },
  {
   "cell_type": "code",
   "execution_count": null,
   "metadata": {},
   "outputs": [],
   "source": [
    "%%time\n",
    "\n",
    "# Fitting LDA \n",
    "lda = LinearDiscriminantAnalysis()\n",
    "\n",
    "X_LDA_train = lda.fit_transform(X_train, y_train)\n",
    "X_LDA_test = lda.transform(X_test)\n"
   ]
  },
  {
   "cell_type": "code",
   "execution_count": null,
   "metadata": {},
   "outputs": [],
   "source": [
    "# See how our LDA performs \n",
    "\n",
    "fig, ax = plt.subplots(1,2, figsize = [15,5])\n",
    "\n",
    "ax[0].hist(X_LDA_train)\n",
    "ax[0].set_title(f\"Training with LDA score {lda.score(X_train,y_train)}\") \n",
    "ax[0].set_xlabel(\"X_LDA values\")\n",
    "ax[1].hist(X_LDA_test)\n",
    "ax[1].set_title(f\"Testing with LDA score {lda.score(X_test,y_test)}\")\n",
    "ax[1].set_xlabel(\"X_LDA values\")\n",
    "\n",
    "plt.show()"
   ]
  },
  {
   "cell_type": "code",
   "execution_count": null,
   "metadata": {},
   "outputs": [],
   "source": [
    "# Implementing with LogReg \n",
    "\n",
    "logreg_LDA = LogisticRegressionCV()\n",
    "\n",
    "# Tried using CV and still does not change anything. \n",
    "# logreg_LDA = LogisticRegressionCV(cv = 10, random_state = 0)\n",
    "\n",
    "logreg_LDA.fit(X_LDA_train, y_train)\n",
    "\n",
    "logreg_pred = logreg_LDA.predict(X_LDA_test)\n",
    "\n",
    "# Acquire Metrics \n",
    "logreg_LDA_training_score = logreg_LDA.score(X_LDA_train, y_train)\n",
    "logreg_LDA_testing_score = logreg_LDA.score(X_LDA_test, y_test)\n",
    "\n",
    "print(\"---SCORES---\")\n",
    "print(\"Training Score:\", logreg_LDA_training_score)\n",
    "print(\"Testing Score:\", logreg_LDA_testing_score)"
   ]
  },
  {
   "cell_type": "markdown",
   "metadata": {},
   "source": [
    "### NOTE \n",
    "\n",
    "For the LDA model, I also performed a validation stepped where I tried different regularization parameters but it does not change the training and testing score and it is always equal to the LDA training and testing score after fitting to the logistic regression. I also attempted to apply the same process in linear SVM but the results were the same. Therefore, the LDA tends to overfit with the training data and resulting in a worse classification "
   ]
  },
  {
   "cell_type": "code",
   "execution_count": null,
   "metadata": {},
   "outputs": [],
   "source": [
    "# Plot confusion matrix \n",
    "metrics.plot_confusion_matrix(logreg_LDA, X_LDA_test, y_test, cmap  = 'binary')\n",
    "plt.title(\"Logreg with LDA\")\n",
    "plt.show()"
   ]
  },
  {
   "cell_type": "markdown",
   "metadata": {},
   "source": [
    "## Summary of Analysis \n",
    "\n",
    "\n",
    "For this analysis, we will be looking at the confusion matrices and the scores of each of the model for comparison. "
   ]
  },
  {
   "cell_type": "code",
   "execution_count": null,
   "metadata": {},
   "outputs": [],
   "source": [
    "fig, axes = plt.subplots(1,3, figsize = [20,5])\n",
    "\n",
    "classifiers = [logregCV, logreg_PCA, logreg_LDA]\n",
    "titles = ['LogReg', 'LogReg with PCA', 'LogReg with LDA'] \n",
    "X = [X_test, X_PCA_test, X_LDA_test]\n",
    "\n",
    "counter = 0 \n",
    "for cls, ax in zip(classifiers, axes.flatten()):\n",
    "    metrics.plot_confusion_matrix(cls, \n",
    "                          X[counter], \n",
    "                          y_test, \n",
    "                          ax=ax, \n",
    "                          cmap='Blues')\n",
    "    ax.set_title(titles[counter])\n",
    "    counter += 1 \n",
    "plt.show() \n"
   ]
  },
  {
   "cell_type": "markdown",
   "metadata": {},
   "source": [
    "### Training and Testing Scores Table \n",
    "\n",
    "|                | LogRegCV | LogReg with PCA  | LogReg with LDA |\n",
    "|----------------|--------|------------------|-----------------|\n",
    "| Training Score | 0.7531 | 0.6302           | 0.9990          |\n",
    "| Testing Score  | 0.6302 | 0.6004           | 0.5547          |"
   ]
  },
  {
   "cell_type": "markdown",
   "metadata": {},
   "source": [
    "### Confusion Matrix\n",
    "\n",
    "A common occurrence for all models is the error in predicting male clothing where a majority of the images for the male clothing is categorized as female. A main reason for this problem is perhaps the noise in the male data set where some pictures have females in them and is very noisy in terms of the type of photo. Some photos are group photos of people wearing multiple clothes. To improve this, we might want to clean out the data set and select the only ones that can represent clothes only and not other individuals or other variables that are present in the photos. For all models, they seem to have more correct predictions that errors which is a good sign and the best model that is performing is the Logistic regression with the PCA. \n",
    "\n",
    "\n",
    "### Training and Testing Scores \n",
    "\n",
    "**BEST MODEL: Logistic Regression**\n",
    "\n",
    "For the logistic regression, we performed a cross-validation step since our logistic regression tends to overfit when n_features > n_samples of the data. After optimizing for the regularization parameter, Logistic Regression with CV is the best model compared to LogReg with PCA or LDA with the highest testing score. Compared to LogReg with PCA based on the confusion matrix, it performs slightly better in classifying male clothing photos with regards to correct classification. \n",
    "\n",
    "**Logistic Regression with the PCA** \n",
    "\n",
    "The application of PCA to the Logistic regression comes second in this analysis. First, I look into the scree plot to see how the number of components change the variation captured by the transformation. Then, I tried different n_comps to transform the data set. Looking back to that plot, the model seems to improve itself as we increase the number of components from 1 to 10. Beyond that number of components, the model starts to overfit and its testing scores are significantly diminished. Even after using CV at higher dimensions, the testing score cannot be improved. Our best n_comp value = 5 and the results are shown in the table above. \n",
    "\n",
    "**Logistic Regression with LDA** \n",
    "\n",
    "Applying LDA to the model and using logistic regression seemed to overfit the training data by alot with a training score of almost 1. The testing score 0.55 is worse makes it the worst model for this analysis. I also tried using a validation step but changing the regularization parameter doesn't seem to change the training and testing score. I also tried using the Linear SVM instead of a logistic regression and the training and testing scores are still the same.\n",
    "\n",
    "\n",
    "### Recommendations \n",
    "\n",
    "Based on our results, the logistic regression with cross validation (LogRegCV) is our best bet in doing the job for classifying male and female clothing since it has the best testing score and does not overfit. With specific adjustments to the logistic regression for its tolerance and standardizing the data, we are able to perform a good classification model despite a very noisy data set. \n",
    "\n",
    "However, this is only for our own data set and we must take note that we performed resizing in our images and that our data set is very noisy. Other improvements would be cleaning our data and checking for photos that do not really represent the proper class that we are aiming for (some photos are just group photos of people with both male and female individuals included). \n",
    "\n",
    "Lastly, we can also consider using other models such as LinearSVM and KNN since Logistic Regression's disadvantage is overfitting when n_features > n_samples. We needed to increase its tolerance for convergence and may have affected with the accuracy of our predictions. "
   ]
  },
  {
   "cell_type": "code",
   "execution_count": null,
   "metadata": {},
   "outputs": [],
   "source": []
  }
 ],
 "metadata": {
  "kernelspec": {
   "display_name": "Python 3",
   "language": "python",
   "name": "python3"
  },
  "language_info": {
   "codemirror_mode": {
    "name": "ipython",
    "version": 3
   },
   "file_extension": ".py",
   "mimetype": "text/x-python",
   "name": "python",
   "nbconvert_exporter": "python",
   "pygments_lexer": "ipython3",
   "version": "3.8.5"
  }
 },
 "nbformat": 4,
 "nbformat_minor": 4
}
