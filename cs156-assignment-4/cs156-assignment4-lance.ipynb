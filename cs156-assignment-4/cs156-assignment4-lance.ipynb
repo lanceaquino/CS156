{
 "cells": [
  {
   "cell_type": "markdown",
   "metadata": {},
   "source": [
    "# CS156 Assignment 4 "
   ]
  },
  {
   "cell_type": "code",
   "execution_count": 34,
   "metadata": {},
   "outputs": [],
   "source": [
    "from glob import glob\n",
    "from PIL import Image\n",
    "from resizeimage import resizeimage\n",
    "import numpy as np\n",
    "import matplotlib.pyplot as plt\n",
    "\n",
    "# create paths for all images\n",
    "man_clothes = glob('man_300/*')\n",
    "woman_clothes = glob('woman_300/*')"
   ]
  },
  {
   "cell_type": "markdown",
   "metadata": {},
   "source": [
    "## Data Preprocessing"
   ]
  },
  {
   "cell_type": "code",
   "execution_count": 35,
   "metadata": {},
   "outputs": [],
   "source": [
    "def image_resize(images, size):\n",
    "    \"\"\"\n",
    "    This function is used from Session 7.1 where we use to \n",
    "    resize images. We will be scaling the images to 384 x 512 pixels\n",
    "    \"\"\"\n",
    "    flattened = []\n",
    "    # for each image path\n",
    "    for path in images:\n",
    "        # open it as a read file in binary mode\n",
    "        with open(path, 'r+b') as f:\n",
    "            # open it as an image\n",
    "            with Image.open(f) as image:\n",
    "                # resize the image to be more manageable\n",
    "                cover = resizeimage.resize_cover(image, size)\n",
    "                # flatten the matrix to an array and append it to all flattened images\n",
    "                flattened.append((np.array(cover).flatten(), 0))\n",
    "\n",
    "    # Flatten it once more\n",
    "    flattened = np.asarray(flattened, dtype = object)\n",
    "\n",
    "    # Declare which are the X and Y inputs\n",
    "    X = flattened[:,0]\n",
    "    Y = flattened[:,1]\n",
    "\n",
    "    # Use np.stack to put the data into the right dimension\n",
    "    X = np.stack(i for i in X)\n",
    "    Y = np.stack(i for i in Y)\n",
    "    \n",
    "    return X, Y\n"
   ]
  },
  {
   "cell_type": "code",
   "execution_count": 36,
   "metadata": {},
   "outputs": [
    {
     "name": "stdout",
     "output_type": "stream",
     "text": [
      "(300, 22500)\n",
      "(300, 22500)\n",
      "CPU times: user 2.72 s, sys: 76.3 ms, total: 2.8 s\n",
      "Wall time: 2.81 s\n"
     ]
    }
   ],
   "source": [
    "%%time\n",
    "\n",
    "size = [50,150]\n",
    "\n",
    "man_images = image_resize(man_clothes, size)[0]\n",
    "woman_images = image_resize(woman_clothes, size)[0]\n",
    "\n",
    "#Check data shape \n",
    "print(man_images.shape) \n",
    "print(woman_images.shape) "
   ]
  },
  {
   "cell_type": "code",
   "execution_count": 44,
   "metadata": {},
   "outputs": [
    {
     "name": "stdout",
     "output_type": "stream",
     "text": [
      "(300, 22501)\n",
      "(300, 22501)\n",
      "(600, 22501)\n"
     ]
    }
   ],
   "source": [
    "## Add classes and merge data \n",
    "\n",
    "# Add 1 for men and 0 for women classes \n",
    "new_column_ones = np.ones((len(man_images), 1))\n",
    "new_column_zeros = np.zeros((len(man_images), 1))\n",
    "\n",
    "class_man_images = np.append(man_images, new_column_ones, axis = 1)\n",
    "class_woman_images = np.append(woman_images, new_column_zeros, axis = 1)\n",
    "\n",
    "print(class_man_images.shape)\n",
    "print(class_woman_images.shape)\n",
    "\n",
    "images_data = np.concatenate((class_man_images, class_woman_images), axis = 0)\n",
    "\n",
    "print(images_data.shape)"
   ]
  },
  {
   "cell_type": "code",
   "execution_count": 57,
   "metadata": {},
   "outputs": [
    {
     "name": "stdout",
     "output_type": "stream",
     "text": [
      "(600, 22500)\n",
      "(600,)\n",
      "Split data: \n",
      "(480, 22500)\n",
      "(120, 22500)\n",
      "(480,)\n",
      "(120,)\n"
     ]
    }
   ],
   "source": [
    "from sklearn.model_selection import train_test_split\n",
    "\n",
    "X = images_data[:, 0:-1] # select all except the last column \n",
    "y = images_data[:, -1] # select last column \n",
    "\n",
    "print(X.shape)\n",
    "print(y.shape)\n",
    "\n",
    "# Splitting training and testing for 80% and 20% \n",
    "X_train, X_test, y_train, y_test = train_test_split(X, y, test_size = 0.2, random_state = 24)\n",
    "\n",
    "print(\"Split data: \")\n",
    "print(X_train.shape)\n",
    "print(X_test.shape)\n",
    "print(y_train.shape)\n",
    "print(y_test.shape)\n"
   ]
  },
  {
   "cell_type": "markdown",
   "metadata": {},
   "source": [
    "## Using Logistic Regression without PCA or LDA "
   ]
  },
  {
   "cell_type": "code",
   "execution_count": null,
   "metadata": {},
   "outputs": [],
   "source": [
    "from sklearn.linear_model import LogisticRegression \n"
   ]
  },
  {
   "cell_type": "code",
   "execution_count": 90,
   "metadata": {},
   "outputs": [
    {
     "name": "stdout",
     "output_type": "stream",
     "text": [
      "CPU times: user 1min 3s, sys: 3.96 s, total: 1min 7s\n",
      "Wall time: 6.66 s\n"
     ]
    }
   ],
   "source": [
    "%%time \n",
    "#6.44s \n",
    "\n",
    "logreg = LogisticRegression(max_iter=600) # < 600 iter does not converge \n",
    "\n",
    "logreg.fit(X_train, y_train)\n",
    "\n",
    "logreg_pred = logreg.predict(X_test)"
   ]
  },
  {
   "cell_type": "code",
   "execution_count": 91,
   "metadata": {},
   "outputs": [
    {
     "name": "stdout",
     "output_type": "stream",
     "text": [
      "---SCORES---\n",
      "Training Score: 1.0\n",
      "Testing Score: 0.6333333333333333\n"
     ]
    }
   ],
   "source": [
    "# Acquire Metrics \n",
    "logreg_training_score = logreg.score(X_train, y_train)\n",
    "logreg_testing_score = logreg.score(X_test, y_test)\n",
    "\n",
    "print(\"---SCORES---\")\n",
    "print(\"Training Score:\", logreg_training_score)\n",
    "print(\"Testing Score:\", logreg_testing_score)"
   ]
  },
  {
   "cell_type": "code",
   "execution_count": 92,
   "metadata": {},
   "outputs": [
    {
     "data": {
      "image/png": "[encoded data removed]",
      "text/plain": [
       "<Figure size 432x288 with 2 Axes>"
      ]
     },
     "metadata": {
      "needs_background": "light"
     },
     "output_type": "display_data"
    }
   ],
   "source": [
    "from sklearn import metrics\n",
    "\n",
    "metrics.plot_confusion_matrix(logreg, X_test, y_test, cmap = 'binary')\n",
    "plt.title(\"Logreg without PCA or LDA\")\n",
    "plt.show()"
   ]
  },
  {
   "cell_type": "markdown",
   "metadata": {},
   "source": [
    "## Logistic Regression with PCA \n",
    "\n",
    "As the first step, we would just like to check on how the trend of the scree plot behaves when we apply PCA. Here we just test up until 20 n_components since beyond that would just be purely flat variance and would be really small to see. "
   ]
  },
  {
   "cell_type": "code",
   "execution_count": 141,
   "metadata": {},
   "outputs": [
    {
     "name": "stdout",
     "output_type": "stream",
     "text": [
      "Data shape: (480, 20) (120, 20)\n"
     ]
    },
    {
     "data": {
      "image/png": "[encoded data removed]",
      "text/plain": [
       "<Figure size 432x288 with 1 Axes>"
      ]
     },
     "metadata": {
      "needs_background": "light"
     },
     "output_type": "display_data"
    }
   ],
   "source": [
    "# Checking how PCA works out on the scree plot \n",
    "from sklearn import decomposition\n",
    "\n",
    "# We will by looking at how much variance we get \n",
    "n_components = 20\n",
    "\n",
    "pca = decomposition.PCA(n_components = n_components)\n",
    "X_PCA_train = pca.fit_transform(X_train)\n",
    "X_PCA_test = pca.fit_transform(X_test)\n",
    "\n",
    "print(\"Data shape:\", X_PCA_train.shape, X_PCA_test.shape)\n",
    "\n",
    "# Plot the variance on a scree plot \n",
    "def plot_scree(n_comp, pca_var):\n",
    "    plt.bar(np.linspace(1, n_comp, n_comp),pca_var)\n",
    "\n",
    "    plt.title(\"Scree Plot of the Variance Ratio\")\n",
    "    plt.xlabel(\"n components\")\n",
    "    plt.ylabel(\"Variance\")\n",
    "\n",
    "    plt.show()\n",
    "    \n",
    "plot_scree(n_components, pca.explained_variance_ratio_)\n",
    "\n"
   ]
  },
  {
   "cell_type": "code",
   "execution_count": 142,
   "metadata": {},
   "outputs": [
    {
     "name": "stdout",
     "output_type": "stream",
     "text": [
      "CPU times: user 55.9 ms, sys: 28 ms, total: 83.9 ms\n",
      "Wall time: 10.7 ms\n"
     ]
    }
   ],
   "source": [
    "%%time \n",
    "#6.44s \n",
    "\n",
    "logreg = LogisticRegression(max_iter=100)\n",
    "\n",
    "logreg.fit(X_PCA_train, y_train)\n",
    "\n",
    "logreg_pred = logreg.predict(X_PCA_test)"
   ]
  },
  {
   "cell_type": "code",
   "execution_count": 143,
   "metadata": {},
   "outputs": [
    {
     "name": "stdout",
     "output_type": "stream",
     "text": [
      "---SCORES---\n",
      "Training Score: 0.65\n",
      "Testing Score: 0.6\n"
     ]
    }
   ],
   "source": [
    "# Acquire Metrics \n",
    "logreg_training_score = logreg.score(X_PCA_train, y_train)\n",
    "logreg_testing_score = logreg.score(X_PCA_test, y_test)\n",
    "\n",
    "print(\"---SCORES---\")\n",
    "print(\"Training Score:\", logreg_training_score)\n",
    "print(\"Testing Score:\", logreg_testing_score)"
   ]
  },
  {
   "cell_type": "code",
   "execution_count": 133,
   "metadata": {},
   "outputs": [],
   "source": [
    "def PCA_logreg_metrics(X_train, X_test, y_train, y_test, n_comps): \n",
    "    \"\"\"\n",
    "    This function aims to check on the training and testing \n",
    "    scores with varying n_commponents set for the PCA. \n",
    "    \n",
    "    Input: data \n",
    "    Output: Training and testing scores \n",
    "    \"\"\"\n",
    "    # Metrics \n",
    "    training_scores = []\n",
    "    testing_scores = []\n",
    "    \n",
    "    for n in n_comps: \n",
    "        # Fit PCA \n",
    "        pca = decomposition.PCA(n_components = n)\n",
    "        X_PCA_train = pca.fit_transform(X_train)\n",
    "        X_PCA_test = pca.fit_transform(X_test)\n",
    "        \n",
    "        # Fit LogReg \n",
    "        logreg = LogisticRegression(max_iter=100)\n",
    "        logreg.fit(X_PCA_train, y_train)\n",
    "        \n",
    "        training_scores.append(logreg.score(X_PCA_train, y_train))\n",
    "        testing_scores.append(logreg.score(X_PCA_test, y_test))\n",
    "        \n",
    "    return training_scores, testing_scores "
   ]
  },
  {
   "cell_type": "code",
   "execution_count": 135,
   "metadata": {},
   "outputs": [],
   "source": [
    "%%time \n",
    "\n",
    "# Get number of components \n",
    "n_comps = np.linspace(1, 99, 99).astype('int64')\n",
    "\n",
    "training_scores, testing_scores = PCA_logreg_metrics(X_train, X_test, y_train, y_test, n_comps)"
   ]
  },
  {
   "cell_type": "code",
   "execution_count": 136,
   "metadata": {},
   "outputs": [
    {
     "data": {
      "image/png": "[encoded data removed]",
      "text/plain": [
       "<Figure size 432x288 with 1 Axes>"
      ]
     },
     "metadata": {
      "needs_background": "light"
     },
     "output_type": "display_data"
    }
   ],
   "source": [
    "# Plot results \n",
    "\n",
    "plt.plot(training_scores, label = 'training')\n",
    "plt.plot(testing_scores, label = 'testing')\n",
    "plt.title(\"Training vs Testing scores using PCA\")\n",
    "plt.xlabel(\"n_components\")\n",
    "plt.ylabel(\"score\")\n",
    "plt.legend()\n",
    "plt.show()"
   ]
  },
  {
   "cell_type": "markdown",
   "metadata": {},
   "source": [
    "**NOTES**\n",
    "\n",
    "1 - 20: training and testing score increasing together \n",
    "\n",
    "20 - 40: good measure of n_components with high testing score \n",
    "\n",
    "40 and beyond: starting to overfit "
   ]
  },
  {
   "cell_type": "code",
   "execution_count": null,
   "metadata": {},
   "outputs": [],
   "source": []
  },
  {
   "cell_type": "markdown",
   "metadata": {},
   "source": [
    "## Logistic Regression with LDA "
   ]
  },
  {
   "cell_type": "code",
   "execution_count": 144,
   "metadata": {},
   "outputs": [],
   "source": [
    "# Implement LDA\n",
    "from sklearn.discriminant_analysis import LinearDiscriminantAnalysis\n"
   ]
  },
  {
   "cell_type": "code",
   "execution_count": 161,
   "metadata": {},
   "outputs": [],
   "source": [
    "# Fitting LDA \n",
    "lda_train = LinearDiscriminantAnalysis()\n",
    "lda_test = LinearDiscriminantAnalysis()\n",
    "\n",
    "X_LDA_train = lda_train.fit_transform(X_train, y_train)\n",
    "X_LDA_test = lda_test.fit_transform(X_test, y_test)\n",
    "\n",
    "\n"
   ]
  },
  {
   "cell_type": "code",
   "execution_count": 162,
   "metadata": {},
   "outputs": [
    {
     "data": {
      "image/png": "[encoded data removed]",
      "text/plain": [
       "<Figure size 1080x360 with 2 Axes>"
      ]
     },
     "metadata": {
      "needs_background": "light"
     },
     "output_type": "display_data"
    }
   ],
   "source": [
    "# See how our LDA performs \n",
    "\n",
    "fig, ax = plt.subplots(1,2, figsize = [15,5])\n",
    "\n",
    "ax[0].hist(X_LDA_train)\n",
    "ax[0].set_title(f\"Training with score {lda_train.score(X_train,y_train)}\") \n",
    "ax[1].hist(X_LDA_test)\n",
    "ax[1].set_title(f\"Testing with score {lda_test.score(X_test,y_test)}\")\n",
    "\n",
    "plt.show()"
   ]
  },
  {
   "cell_type": "code",
   "execution_count": 163,
   "metadata": {},
   "outputs": [
    {
     "name": "stdout",
     "output_type": "stream",
     "text": [
      "---SCORES---\n",
      "Training Score: 0.9958333333333333\n",
      "Testing Score: 0.975\n"
     ]
    }
   ],
   "source": [
    "# Implementing with LogReg \n",
    "\n",
    "logreg = LogisticRegression(max_iter=100)\n",
    "\n",
    "logreg.fit(X_LDA_train, y_train)\n",
    "\n",
    "logreg_pred = logreg.predict(X_LDA_test)\n",
    "\n",
    "# Acquire Metrics \n",
    "logreg_training_score = logreg.score(X_LDA_train, y_train)\n",
    "logreg_testing_score = logreg.score(X_LDA_test, y_test)\n",
    "\n",
    "print(\"---SCORES---\")\n",
    "print(\"Training Score:\", logreg_training_score)\n",
    "print(\"Testing Score:\", logreg_testing_score)"
   ]
  },
  {
   "cell_type": "code",
   "execution_count": null,
   "metadata": {},
   "outputs": [],
   "source": []
  },
  {
   "cell_type": "code",
   "execution_count": null,
   "metadata": {},
   "outputs": [],
   "source": []
  }
 ],
 "metadata": {
  "kernelspec": {
   "display_name": "Python 3",
   "language": "python",
   "name": "python3"
  },
  "language_info": {
   "codemirror_mode": {
    "name": "ipython",
    "version": 3
   },
   "file_extension": ".py",
   "mimetype": "text/x-python",
   "name": "python",
   "nbconvert_exporter": "python",
   "pygments_lexer": "ipython3",
   "version": "3.8.5"
  }
 },
 "nbformat": 4,
 "nbformat_minor": 4
}
